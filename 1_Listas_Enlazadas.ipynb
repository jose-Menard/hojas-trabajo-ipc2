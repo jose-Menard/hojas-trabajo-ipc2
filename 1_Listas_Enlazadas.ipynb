{
  "nbformat": 4,
  "nbformat_minor": 0,
  "metadata": {
    "colab": {
      "provenance": []
    },
    "kernelspec": {
      "name": "python3",
      "display_name": "Python 3"
    },
    "language_info": {
      "name": "python"
    }
  },
  "cells": [
    {
      "cell_type": "code",
      "execution_count": null,
      "metadata": {
        "id": "ZREm9d-lhHS1"
      },
      "outputs": [],
      "source": []
    },
    {
      "cell_type": "markdown",
      "source": [
        "#**Listas** **enlazadas**#\n",
        "##definicion de la clase receta##"
      ],
      "metadata": {
        "id": "1Ik18SVDhIcU"
      }
    },
    {
      "cell_type": "code",
      "source": [
        "class receta:\n",
        "  def __init__(self, paciente, fecha_nac, doctor, colegiado, fecha_cita, hora_cita, tipo_consulta, tratamiento):\n",
        "    self.paciente=paciente\n",
        "    self.fecha_nac=fecha_nac\n",
        "    self.doctor=doctor\n",
        "    self.colegiado=colegiado\n",
        "    self.fecha_cita=fecha_cita\n",
        "    self.hora_cita=hora_cita\n",
        "    self.tipo_consulta=tipo_consulta\n",
        "    self.tratamiento=tratamiento\n",
        "\n"
      ],
      "metadata": {
        "id": "8lnkQkM7iCsY"
      },
      "execution_count": 33,
      "outputs": []
    },
    {
      "cell_type": "markdown",
      "source": [
        "##Definición de la clase nodo##\n"
      ],
      "metadata": {
        "id": "w6IG79wAld2h"
      }
    },
    {
      "cell_type": "code",
      "source": [
        "class nodo:\n",
        "  def __init__(self, receta=None, siguiente=None):\n",
        "    self.receta=receta\n",
        "    self.siguiente=siguiente\n"
      ],
      "metadata": {
        "id": "2q8aTzjqlixY"
      },
      "execution_count": 34,
      "outputs": []
    },
    {
      "cell_type": "markdown",
      "source": [
        "##Definición de la clase Lista Enlazada##\n"
      ],
      "metadata": {
        "id": "wGBldTGyqRW6"
      }
    },
    {
      "cell_type": "code",
      "source": [
        "class lista_enlazada:\n",
        "  def __init__(self):\n",
        "    self.primero=None\n",
        "\n",
        "  def insertar(self, receta):\n",
        "    if self.primero is None:\n",
        "      self.primero =nodo(receta=receta)\n",
        "      return\n",
        "    actual=self.primero\n",
        "    while actual.siguiente:\n",
        "      actual=actual.siguiente\n",
        "      actual.siguiente=nodo(receta=receta)\n",
        "  \n",
        "  def recorrer(self):\n",
        "    actual=self.primero\n",
        "\n",
        "    while actual !=None:\n",
        "      print(\"Paciente: \", actual.receta.paciente, \"| Fecha de nacimiento: \", actual.receta.fecha_nac, \"| Doctor: \", actual.receta.doctor,  \"| Colegiado: \", actual.receta.colegiado,  \"| Fecha de cita: \", actual.receta.fecha_cita,  \"| Hora de la cita: \", actual.receta.hora_cita, \"| Tipo de consulta: \", actual.receta.tipo_consulta, \"| Tratamiento: \", actual.receta.tratamiento)\n",
        "\n",
        "      actual=actual.siguiente\n",
        "  \n",
        "  def eliminar(self, colegiado, fecha_cita, hora_cita):\n",
        "    actual=self.primero \n",
        "    anterior=None\n",
        "\n",
        "    while actual and actual.receta.colegiado != colegiado and actual.receta.fecha_cita != fecha_cita and actual.receta.hora_cita != hora_cita:\n",
        "\n",
        "      anterior=actual\n",
        "      actual=actual.siguiente\n",
        "    \n",
        "    if anterior is None:\n",
        "      self.primero=actual.siguiente\n",
        "      actual.siguiente=None\n",
        "    elif actual:\n",
        "      anterior.siguiente=actual.siguiente\n",
        "      actual.siguiente=None\n",
        "    \n",
        "  def buscar(self, pacientoso):\n",
        "    actual=self.primero\n",
        "    while actual:\n",
        "      if actual.receta.paciente==pacientoso:\n",
        "        return True\n",
        "      actual=actual.siguiente \n",
        "    return False\n",
        "\n",
        "\n",
        "    \n",
        "    \n"
      ],
      "metadata": {
        "id": "YWvSExJBqV7y"
      },
      "execution_count": 35,
      "outputs": []
    },
    {
      "cell_type": "markdown",
      "source": [
        " ##creacion objetos receta##\n"
      ],
      "metadata": {
        "id": "-kqErhz6xygk"
      }
    },
    {
      "cell_type": "code",
      "source": [
        "r1=receta(\"1\",\"2\",\"3\",\"4\",\"5\",\"43\",\"4\",\"er\")\n",
        "r2=receta(\"11\",\"21\",\"31\",\"41\",\"15\",\"431\",\"14\",\"er1\")\n",
        "r3=receta(\"12\",\"22\",\"32\",\"42\",\"25\",\"432\",\"24\",\"er2\")\n"
      ],
      "metadata": {
        "id": "1Hcj8u2tx2Jh"
      },
      "execution_count": 36,
      "outputs": []
    },
    {
      "cell_type": "markdown",
      "source": [
        "##Inserción##"
      ],
      "metadata": {
        "id": "1s1rkNwYyr6l"
      }
    },
    {
      "cell_type": "code",
      "source": [
        "lista_e=lista_enlazada()\n",
        "lista_e.insertar(r1)\n",
        "lista_e.insertar(r2)\n",
        "lista_e.insertar(r3)"
      ],
      "metadata": {
        "id": "CWIfu6vGyyRI"
      },
      "execution_count": 37,
      "outputs": []
    },
    {
      "cell_type": "markdown",
      "source": [
        "##impresion de la lista##"
      ],
      "metadata": {
        "id": "13pXYkq7xth8"
      }
    },
    {
      "cell_type": "code",
      "source": [
        "lista_e.recorrer()"
      ],
      "metadata": {
        "colab": {
          "base_uri": "https://localhost:8080/"
        },
        "id": "rvNqabEIx5s7",
        "outputId": "2cb3285f-1975-448a-a0f7-bb811fd5987d"
      },
      "execution_count": 38,
      "outputs": [
        {
          "output_type": "stream",
          "name": "stdout",
          "text": [
            "Paciente:  1 | Fecha de nacimiento:  2 | Doctor:  3 | Colegiado:  4 | Fecha de cita:  5 | Hora de la cita:  43 | Tipo de consulta:  4 | Tratamiento:  er\n"
          ]
        }
      ]
    },
    {
      "cell_type": "markdown",
      "source": [
        "**Eliminar**"
      ],
      "metadata": {
        "id": "c82lgrAOnwgU"
      }
    },
    {
      "cell_type": "code",
      "source": [
        "lista_e.eliminar(4,5,43)"
      ],
      "metadata": {
        "id": "YpD3PYXkoIxj"
      },
      "execution_count": null,
      "outputs": []
    },
    {
      "cell_type": "code",
      "source": [
        "lista_e.buscar(11)"
      ],
      "metadata": {
        "colab": {
          "base_uri": "https://localhost:8080/"
        },
        "id": "UhIzX1RdVXWS",
        "outputId": "302db0a3-6501-42b9-be24-d535b359fb41"
      },
      "execution_count": 40,
      "outputs": [
        {
          "output_type": "execute_result",
          "data": {
            "text/plain": [
              "False"
            ]
          },
          "metadata": {},
          "execution_count": 40
        }
      ]
    }
  ]
}